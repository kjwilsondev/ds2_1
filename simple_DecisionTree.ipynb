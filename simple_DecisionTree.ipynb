{
 "cells": [
  {
   "cell_type": "code",
   "execution_count": 1,
   "metadata": {},
   "outputs": [
    {
     "data": {
      "text/plain": [
       "1.0"
      ]
     },
     "execution_count": 1,
     "metadata": {},
     "output_type": "execute_result"
    }
   ],
   "source": [
    "import numpy as np\n",
    "\n",
    "def entropy(p):\n",
    "    H = np.array([-i*np.log2(i) for i in p]).sum()\n",
    "    return H\n",
    "    \n",
    "p = [.5, .5]\n",
    "entropy(p)"
   ]
  },
  {
   "cell_type": "code",
   "execution_count": 6,
   "metadata": {},
   "outputs": [
    {
     "name": "stdout",
     "output_type": "stream",
     "text": [
      "     Outlook  Temp Humidity    Wind Play?\n",
      "1      Sunny   Hot     High    Weak    No\n",
      "2      Sunny   Hot     High  Strong    No\n",
      "3   Overcast   Hot     High    Weak   Yes\n",
      "4       Rain  Mild     High    Weak   Yes\n",
      "5       Rain  Cool   Normal    Weak   Yes\n",
      "6       Rain  Cool   Normal  Strong    No\n",
      "7   Overcast  Cool   Normal  Strong   Yes\n",
      "8      Sunny  Mild     High    Weak    No\n",
      "9      Sunny  Cool   Normal    Weak   Yes\n",
      "10      Rain  Mild   Normal    Weak   Yes\n",
      "11     Sunny  Mild   Normal  Strong   Yes\n",
      "12  Overcast  Mild     High  Strong   Yes\n",
      "13  Overcast   Hot   Normal    Weak   Yes\n",
      "14      Rain  Mild     High  Strong    No\n",
      "    Outlook  Temp  Humidity  Wind  Play?\n",
      "1         2     1         0     1      0\n",
      "2         2     1         0     0      0\n",
      "3         0     1         0     1      1\n",
      "4         1     2         0     1      1\n",
      "5         1     0         1     1      1\n",
      "6         1     0         1     0      0\n",
      "7         0     0         1     0      1\n",
      "8         2     2         0     1      0\n",
      "9         2     0         1     1      1\n",
      "10        1     2         1     1      1\n",
      "11        2     2         1     0      1\n",
      "12        0     2         0     0      1\n",
      "13        0     1         1     1      1\n",
      "14        1     2         0     0      0\n"
     ]
    }
   ],
   "source": [
    "import pandas as pd\n",
    "from sklearn.tree import DecisionTreeClassifier\n",
    "from sklearn import preprocessing\n",
    "from sklearn.tree import export_graphviz\n",
    "\n",
    "\n",
    "data = pd.read_csv('tennis.txt', delimiter=\"\\t\", header=None, names=['Outlook', 'Temp', 'Humidity', 'Wind', 'Play?'])\n",
    "print(data)\n",
    "\n",
    "data_encoded = data.apply(preprocessing.LabelEncoder().fit_transform)\n",
    "print(data_encoded)\n",
    "\n",
    "#\n",
    "clf = DecisionTreeClassifier(criterion='entropy', max_depth=3)\n",
    "\n",
    "# one_hot_data = pd.get_dummies(data[['a', 'b', 'c', 'd']], drop_first=True)\n",
    "# print(one_hot_data)\n",
    "# clf.fit(data_encoded[['a', 'b', 'c', 'd']], data_encoded['e'])\n",
    "\n",
    "\n",
    "# dot_data = export_graphviz(clf, out_file=None, feature_names=['Outlook', 'Temp.', 'Humidity', 'Wind'])\n"
   ]
  },
  {
   "cell_type": "code",
   "execution_count": null,
   "metadata": {},
   "outputs": [],
   "source": []
  }
 ],
 "metadata": {
  "kernelspec": {
   "display_name": "Python 3",
   "language": "python",
   "name": "python3"
  },
  "language_info": {
   "codemirror_mode": {
    "name": "ipython",
    "version": 3
   },
   "file_extension": ".py",
   "mimetype": "text/x-python",
   "name": "python",
   "nbconvert_exporter": "python",
   "pygments_lexer": "ipython3",
   "version": "3.7.3"
  }
 },
 "nbformat": 4,
 "nbformat_minor": 2
}

{
 "cells": [
  {
   "cell_type": "markdown",
   "metadata": {},
   "source": [
    "# Popularity Prediction"
   ]
  },
  {
   "cell_type": "markdown",
   "metadata": {},
   "source": [
    "Often times, songs go unappreciated by the world due to lack of promotion. Because of this, I will create a prediction machine that will input songs with low popularity and output a prediction of what their popularity would be if it had the same promotion of the top tier of songs. It will do this by comparing the unpopular song features to the features from popular songs."
   ]
  },
  {
   "cell_type": "markdown",
   "metadata": {},
   "source": [
    "## Import the functions"
   ]
  },
  {
   "cell_type": "code",
   "execution_count": 106,
   "metadata": {},
   "outputs": [],
   "source": [
    "import pandas as pd\n",
    "import numpy as np\n",
    "import matplotlib.pyplot as plt\n",
    "import seaborn as sns"
   ]
  },
  {
   "cell_type": "markdown",
   "metadata": {},
   "source": [
    "## Import the data"
   ]
  },
  {
   "cell_type": "code",
   "execution_count": 137,
   "metadata": {},
   "outputs": [
    {
     "data": {
      "text/html": [
       "<div>\n",
       "<style scoped>\n",
       "    .dataframe tbody tr th:only-of-type {\n",
       "        vertical-align: middle;\n",
       "    }\n",
       "\n",
       "    .dataframe tbody tr th {\n",
       "        vertical-align: top;\n",
       "    }\n",
       "\n",
       "    .dataframe thead th {\n",
       "        text-align: right;\n",
       "    }\n",
       "</style>\n",
       "<table border=\"1\" class=\"dataframe\">\n",
       "  <thead>\n",
       "    <tr style=\"text-align: right;\">\n",
       "      <th></th>\n",
       "      <th>genre</th>\n",
       "      <th>artist_name</th>\n",
       "      <th>track_name</th>\n",
       "      <th>track_id</th>\n",
       "      <th>popularity</th>\n",
       "      <th>acousticness</th>\n",
       "      <th>danceability</th>\n",
       "      <th>duration_ms</th>\n",
       "      <th>energy</th>\n",
       "      <th>instrumentalness</th>\n",
       "      <th>key</th>\n",
       "      <th>liveness</th>\n",
       "      <th>loudness</th>\n",
       "      <th>mode</th>\n",
       "      <th>speechiness</th>\n",
       "      <th>tempo</th>\n",
       "      <th>time_signature</th>\n",
       "      <th>valence</th>\n",
       "    </tr>\n",
       "  </thead>\n",
       "  <tbody>\n",
       "    <tr>\n",
       "      <th>0</th>\n",
       "      <td>Opera</td>\n",
       "      <td>Giuseppe Verdi</td>\n",
       "      <td>Stiffelio, Act III: Ei fugge! … Lina, pensai c...</td>\n",
       "      <td>7EsKYeHtTc4H4xWiTqSVZA</td>\n",
       "      <td>21</td>\n",
       "      <td>0.986</td>\n",
       "      <td>0.313</td>\n",
       "      <td>490867</td>\n",
       "      <td>0.23100</td>\n",
       "      <td>0.000431</td>\n",
       "      <td>C#</td>\n",
       "      <td>0.0964</td>\n",
       "      <td>-14.287</td>\n",
       "      <td>Major</td>\n",
       "      <td>0.0547</td>\n",
       "      <td>86.001</td>\n",
       "      <td>4/4</td>\n",
       "      <td>0.0886</td>\n",
       "    </tr>\n",
       "    <tr>\n",
       "      <th>1</th>\n",
       "      <td>Opera</td>\n",
       "      <td>Giacomo Puccini</td>\n",
       "      <td>Madama Butterfly / Act 1: ... E soffitto e pareti</td>\n",
       "      <td>7MfmRBvqaW0I6UTxXnad8p</td>\n",
       "      <td>18</td>\n",
       "      <td>0.972</td>\n",
       "      <td>0.360</td>\n",
       "      <td>176797</td>\n",
       "      <td>0.20100</td>\n",
       "      <td>0.028000</td>\n",
       "      <td>D#</td>\n",
       "      <td>0.1330</td>\n",
       "      <td>-19.794</td>\n",
       "      <td>Major</td>\n",
       "      <td>0.0581</td>\n",
       "      <td>131.798</td>\n",
       "      <td>4/4</td>\n",
       "      <td>0.3690</td>\n",
       "    </tr>\n",
       "    <tr>\n",
       "      <th>2</th>\n",
       "      <td>Opera</td>\n",
       "      <td>Giacomo Puccini</td>\n",
       "      <td>Turandot / Act 2: Gloria, gloria, o vincitore</td>\n",
       "      <td>7pBo1GDhIysyUMFXiDVoON</td>\n",
       "      <td>10</td>\n",
       "      <td>0.935</td>\n",
       "      <td>0.168</td>\n",
       "      <td>266184</td>\n",
       "      <td>0.47000</td>\n",
       "      <td>0.020400</td>\n",
       "      <td>C</td>\n",
       "      <td>0.3630</td>\n",
       "      <td>-8.415</td>\n",
       "      <td>Major</td>\n",
       "      <td>0.0383</td>\n",
       "      <td>75.126</td>\n",
       "      <td>3/4</td>\n",
       "      <td>0.0696</td>\n",
       "    </tr>\n",
       "    <tr>\n",
       "      <th>3</th>\n",
       "      <td>Opera</td>\n",
       "      <td>Giuseppe Verdi</td>\n",
       "      <td>Rigoletto, Act IV: Venti scudi hai tu detto?</td>\n",
       "      <td>02mvYZX5aKNzdqEo6jF20m</td>\n",
       "      <td>17</td>\n",
       "      <td>0.961</td>\n",
       "      <td>0.250</td>\n",
       "      <td>288573</td>\n",
       "      <td>0.00605</td>\n",
       "      <td>0.000000</td>\n",
       "      <td>D</td>\n",
       "      <td>0.1200</td>\n",
       "      <td>-33.440</td>\n",
       "      <td>Major</td>\n",
       "      <td>0.0480</td>\n",
       "      <td>76.493</td>\n",
       "      <td>4/4</td>\n",
       "      <td>0.0380</td>\n",
       "    </tr>\n",
       "    <tr>\n",
       "      <th>4</th>\n",
       "      <td>Opera</td>\n",
       "      <td>Giuseppe Verdi</td>\n",
       "      <td>Don Carlo / Act 4: \"Ella giammai m'amò!\"</td>\n",
       "      <td>03TW0jwGMGhUabAjOpB1T9</td>\n",
       "      <td>19</td>\n",
       "      <td>0.985</td>\n",
       "      <td>0.142</td>\n",
       "      <td>629760</td>\n",
       "      <td>0.05800</td>\n",
       "      <td>0.146000</td>\n",
       "      <td>D</td>\n",
       "      <td>0.0969</td>\n",
       "      <td>-23.625</td>\n",
       "      <td>Major</td>\n",
       "      <td>0.0493</td>\n",
       "      <td>172.935</td>\n",
       "      <td>4/4</td>\n",
       "      <td>0.0382</td>\n",
       "    </tr>\n",
       "  </tbody>\n",
       "</table>\n",
       "</div>"
      ],
      "text/plain": [
       "   genre      artist_name                                         track_name  \\\n",
       "0  Opera   Giuseppe Verdi  Stiffelio, Act III: Ei fugge! … Lina, pensai c...   \n",
       "1  Opera  Giacomo Puccini  Madama Butterfly / Act 1: ... E soffitto e pareti   \n",
       "2  Opera  Giacomo Puccini      Turandot / Act 2: Gloria, gloria, o vincitore   \n",
       "3  Opera   Giuseppe Verdi       Rigoletto, Act IV: Venti scudi hai tu detto?   \n",
       "4  Opera   Giuseppe Verdi           Don Carlo / Act 4: \"Ella giammai m'amò!\"   \n",
       "\n",
       "                 track_id  popularity  acousticness  danceability  \\\n",
       "0  7EsKYeHtTc4H4xWiTqSVZA          21         0.986         0.313   \n",
       "1  7MfmRBvqaW0I6UTxXnad8p          18         0.972         0.360   \n",
       "2  7pBo1GDhIysyUMFXiDVoON          10         0.935         0.168   \n",
       "3  02mvYZX5aKNzdqEo6jF20m          17         0.961         0.250   \n",
       "4  03TW0jwGMGhUabAjOpB1T9          19         0.985         0.142   \n",
       "\n",
       "   duration_ms   energy  instrumentalness key  liveness  loudness   mode  \\\n",
       "0       490867  0.23100          0.000431  C#    0.0964   -14.287  Major   \n",
       "1       176797  0.20100          0.028000  D#    0.1330   -19.794  Major   \n",
       "2       266184  0.47000          0.020400   C    0.3630    -8.415  Major   \n",
       "3       288573  0.00605          0.000000   D    0.1200   -33.440  Major   \n",
       "4       629760  0.05800          0.146000   D    0.0969   -23.625  Major   \n",
       "\n",
       "   speechiness    tempo time_signature  valence  \n",
       "0       0.0547   86.001            4/4   0.0886  \n",
       "1       0.0581  131.798            4/4   0.3690  \n",
       "2       0.0383   75.126            3/4   0.0696  \n",
       "3       0.0480   76.493            4/4   0.0380  \n",
       "4       0.0493  172.935            4/4   0.0382  "
      ]
     },
     "execution_count": 137,
     "metadata": {},
     "output_type": "execute_result"
    }
   ],
   "source": [
    "PATH = \"SpotifyFeatures.csv\"\n",
    "df = pd.read_csv(PATH)\n",
    "df.head()"
   ]
  },
  {
   "cell_type": "markdown",
   "metadata": {},
   "source": [
    "For the sake of consistency, we will pick one genre. I have chosen Hip Hop because of its popularity."
   ]
  },
  {
   "cell_type": "code",
   "execution_count": 138,
   "metadata": {},
   "outputs": [
    {
     "data": {
      "text/html": [
       "<div>\n",
       "<style scoped>\n",
       "    .dataframe tbody tr th:only-of-type {\n",
       "        vertical-align: middle;\n",
       "    }\n",
       "\n",
       "    .dataframe tbody tr th {\n",
       "        vertical-align: top;\n",
       "    }\n",
       "\n",
       "    .dataframe thead th {\n",
       "        text-align: right;\n",
       "    }\n",
       "</style>\n",
       "<table border=\"1\" class=\"dataframe\">\n",
       "  <thead>\n",
       "    <tr style=\"text-align: right;\">\n",
       "      <th></th>\n",
       "      <th>genre</th>\n",
       "      <th>artist_name</th>\n",
       "      <th>track_name</th>\n",
       "      <th>track_id</th>\n",
       "      <th>popularity</th>\n",
       "      <th>acousticness</th>\n",
       "      <th>danceability</th>\n",
       "      <th>duration_ms</th>\n",
       "      <th>energy</th>\n",
       "      <th>instrumentalness</th>\n",
       "      <th>key</th>\n",
       "      <th>liveness</th>\n",
       "      <th>loudness</th>\n",
       "      <th>mode</th>\n",
       "      <th>speechiness</th>\n",
       "      <th>tempo</th>\n",
       "      <th>time_signature</th>\n",
       "      <th>valence</th>\n",
       "    </tr>\n",
       "  </thead>\n",
       "  <tbody>\n",
       "    <tr>\n",
       "      <th>106034</th>\n",
       "      <td>Hip-Hop</td>\n",
       "      <td>J. Cole</td>\n",
       "      <td>MIDDLE CHILD</td>\n",
       "      <td>2JvzF1RMd7lE3KmFlsyZD8</td>\n",
       "      <td>96</td>\n",
       "      <td>0.14900</td>\n",
       "      <td>0.837</td>\n",
       "      <td>213594</td>\n",
       "      <td>0.364</td>\n",
       "      <td>0.00000</td>\n",
       "      <td>G#</td>\n",
       "      <td>0.2710</td>\n",
       "      <td>-11.713</td>\n",
       "      <td>Major</td>\n",
       "      <td>0.2760</td>\n",
       "      <td>123.984</td>\n",
       "      <td>4/4</td>\n",
       "      <td>0.463</td>\n",
       "    </tr>\n",
       "    <tr>\n",
       "      <th>106035</th>\n",
       "      <td>Hip-Hop</td>\n",
       "      <td>Meek Mill</td>\n",
       "      <td>Going Bad (feat. Drake)</td>\n",
       "      <td>2IRZnDFmlqMuOrYOLnZZyc</td>\n",
       "      <td>95</td>\n",
       "      <td>0.25900</td>\n",
       "      <td>0.889</td>\n",
       "      <td>180522</td>\n",
       "      <td>0.496</td>\n",
       "      <td>0.00000</td>\n",
       "      <td>E</td>\n",
       "      <td>0.2520</td>\n",
       "      <td>-6.365</td>\n",
       "      <td>Minor</td>\n",
       "      <td>0.0905</td>\n",
       "      <td>86.003</td>\n",
       "      <td>4/4</td>\n",
       "      <td>0.544</td>\n",
       "    </tr>\n",
       "    <tr>\n",
       "      <th>106036</th>\n",
       "      <td>Hip-Hop</td>\n",
       "      <td>21 Savage</td>\n",
       "      <td>a lot</td>\n",
       "      <td>2t8yVaLvJ0RenpXUIAC52d</td>\n",
       "      <td>93</td>\n",
       "      <td>0.03950</td>\n",
       "      <td>0.837</td>\n",
       "      <td>288624</td>\n",
       "      <td>0.636</td>\n",
       "      <td>0.00125</td>\n",
       "      <td>C#</td>\n",
       "      <td>0.3420</td>\n",
       "      <td>-7.643</td>\n",
       "      <td>Major</td>\n",
       "      <td>0.0860</td>\n",
       "      <td>145.972</td>\n",
       "      <td>4/4</td>\n",
       "      <td>0.274</td>\n",
       "    </tr>\n",
       "    <tr>\n",
       "      <th>106037</th>\n",
       "      <td>Hip-Hop</td>\n",
       "      <td>Rich The Kid</td>\n",
       "      <td>Splashin</td>\n",
       "      <td>79OEIr4J4FHV0O3KrhaXRb</td>\n",
       "      <td>88</td>\n",
       "      <td>0.00195</td>\n",
       "      <td>0.942</td>\n",
       "      <td>177806</td>\n",
       "      <td>0.383</td>\n",
       "      <td>0.00000</td>\n",
       "      <td>A#</td>\n",
       "      <td>0.0922</td>\n",
       "      <td>-8.099</td>\n",
       "      <td>Major</td>\n",
       "      <td>0.5650</td>\n",
       "      <td>100.021</td>\n",
       "      <td>4/4</td>\n",
       "      <td>0.380</td>\n",
       "    </tr>\n",
       "    <tr>\n",
       "      <th>106038</th>\n",
       "      <td>Hip-Hop</td>\n",
       "      <td>Sheck Wes</td>\n",
       "      <td>Mo Bamba</td>\n",
       "      <td>1xzBco0xcoJEDXktl7Jxrr</td>\n",
       "      <td>92</td>\n",
       "      <td>0.19400</td>\n",
       "      <td>0.729</td>\n",
       "      <td>183907</td>\n",
       "      <td>0.625</td>\n",
       "      <td>0.00986</td>\n",
       "      <td>E</td>\n",
       "      <td>0.2480</td>\n",
       "      <td>-5.266</td>\n",
       "      <td>Major</td>\n",
       "      <td>0.0315</td>\n",
       "      <td>146.034</td>\n",
       "      <td>4/4</td>\n",
       "      <td>0.261</td>\n",
       "    </tr>\n",
       "  </tbody>\n",
       "</table>\n",
       "</div>"
      ],
      "text/plain": [
       "          genre   artist_name               track_name  \\\n",
       "106034  Hip-Hop       J. Cole             MIDDLE CHILD   \n",
       "106035  Hip-Hop     Meek Mill  Going Bad (feat. Drake)   \n",
       "106036  Hip-Hop     21 Savage                    a lot   \n",
       "106037  Hip-Hop  Rich The Kid                 Splashin   \n",
       "106038  Hip-Hop     Sheck Wes                 Mo Bamba   \n",
       "\n",
       "                      track_id  popularity  acousticness  danceability  \\\n",
       "106034  2JvzF1RMd7lE3KmFlsyZD8          96       0.14900         0.837   \n",
       "106035  2IRZnDFmlqMuOrYOLnZZyc          95       0.25900         0.889   \n",
       "106036  2t8yVaLvJ0RenpXUIAC52d          93       0.03950         0.837   \n",
       "106037  79OEIr4J4FHV0O3KrhaXRb          88       0.00195         0.942   \n",
       "106038  1xzBco0xcoJEDXktl7Jxrr          92       0.19400         0.729   \n",
       "\n",
       "        duration_ms  energy  instrumentalness key  liveness  loudness   mode  \\\n",
       "106034       213594   0.364           0.00000  G#    0.2710   -11.713  Major   \n",
       "106035       180522   0.496           0.00000   E    0.2520    -6.365  Minor   \n",
       "106036       288624   0.636           0.00125  C#    0.3420    -7.643  Major   \n",
       "106037       177806   0.383           0.00000  A#    0.0922    -8.099  Major   \n",
       "106038       183907   0.625           0.00986   E    0.2480    -5.266  Major   \n",
       "\n",
       "        speechiness    tempo time_signature  valence  \n",
       "106034       0.2760  123.984            4/4    0.463  \n",
       "106035       0.0905   86.003            4/4    0.544  \n",
       "106036       0.0860  145.972            4/4    0.274  \n",
       "106037       0.5650  100.021            4/4    0.380  \n",
       "106038       0.0315  146.034            4/4    0.261  "
      ]
     },
     "execution_count": 138,
     "metadata": {},
     "output_type": "execute_result"
    }
   ],
   "source": [
    "hh = df[(df[\"genre\"] == \"Hip-Hop\")]\n",
    "hh.head()"
   ]
  },
  {
   "cell_type": "markdown",
   "metadata": {},
   "source": [
    "### Histogram of songs by **Popularity**"
   ]
  },
  {
   "cell_type": "code",
   "execution_count": 139,
   "metadata": {},
   "outputs": [
    {
     "data": {
      "text/plain": [
       "<matplotlib.axes._subplots.AxesSubplot at 0x1a2807c0f0>"
      ]
     },
     "execution_count": 139,
     "metadata": {},
     "output_type": "execute_result"
    },
    {
     "data": {
      "image/png": "[encoded data removed]",
      "text/plain": [
       "<Figure size 432x288 with 1 Axes>"
      ]
     },
     "metadata": {
      "needs_background": "light"
     },
     "output_type": "display_data"
    }
   ],
   "source": [
    "sns.distplot(hh[\"popularity\"])"
   ]
  },
  {
   "cell_type": "code",
   "execution_count": 140,
   "metadata": {},
   "outputs": [
    {
     "data": {
      "text/plain": [
       "count    9295.000000\n",
       "mean       58.423131\n",
       "std         8.269761\n",
       "min        14.000000\n",
       "25%        52.000000\n",
       "50%        57.000000\n",
       "75%        63.000000\n",
       "max        98.000000\n",
       "Name: popularity, dtype: float64"
      ]
     },
     "execution_count": 140,
     "metadata": {},
     "output_type": "execute_result"
    }
   ],
   "source": [
    "hh[\"popularity\"].describe()"
   ]
  },
  {
   "cell_type": "markdown",
   "metadata": {},
   "source": [
    "We want to use the top 10% of songs to train our model. We need to find what the 99th percentile for Popularity is."
   ]
  },
  {
   "cell_type": "code",
   "execution_count": 111,
   "metadata": {},
   "outputs": [
    {
     "data": {
      "text/plain": [
       "70.0"
      ]
     },
     "execution_count": 111,
     "metadata": {},
     "output_type": "execute_result"
    }
   ],
   "source": [
    "np.percentile(hh[\"popularity\"], 90)"
   ]
  },
  {
   "cell_type": "code",
   "execution_count": 112,
   "metadata": {},
   "outputs": [
    {
     "data": {
      "text/plain": [
       "973"
      ]
     },
     "execution_count": 112,
     "metadata": {},
     "output_type": "execute_result"
    }
   ],
   "source": [
    "hp = hh[(hh[\"popularity\"] >= 70)]\n",
    "len(hp)"
   ]
  },
  {
   "cell_type": "markdown",
   "metadata": {},
   "source": [
    "## Find coorelation"
   ]
  },
  {
   "cell_type": "code",
   "execution_count": 113,
   "metadata": {},
   "outputs": [
    {
     "data": {
      "text/plain": [
       "<Figure size 864x864 with 0 Axes>"
      ]
     },
     "metadata": {},
     "output_type": "display_data"
    },
    {
     "data": {
      "image/png": "[encoded data removed]",
      "text/plain": [
       "<Figure size 792x648 with 2 Axes>"
      ]
     },
     "metadata": {
      "needs_background": "light"
     },
     "output_type": "display_data"
    }
   ],
   "source": [
    "corr = hp.corr().round(3)\n",
    "plt.figure(figsize=(12,12))\n",
    "# sns.heatmap(data=corr, annot=True, cmap=plt.cm.Reds)\n",
    "\n",
    "# Generate a mask for the upper triangle\n",
    "mask = np.zeros_like(corr, dtype=np.bool)\n",
    "mask[np.triu_indices_from(mask)] = True\n",
    "\n",
    "# Set up the matplotlib figure\n",
    "f, ax = plt.subplots(figsize=(11, 9))\n",
    "\n",
    "# Generate a custom diverging colormap\n",
    "cmap = sns.diverging_palette(220, 10, as_cmap=True)\n",
    "\n",
    "# Draw the heatmap with the mask and correct aspect ratio\n",
    "sns.heatmap(corr, mask=mask, cmap=\"coolwarm\", vmax=.3, center=0,\n",
    "            square=True, linewidths=.5, cbar_kws={\"shrink\": .5})\n",
    "plt.show()"
   ]
  },
  {
   "cell_type": "markdown",
   "metadata": {},
   "source": [
    "### Notes:\n",
    "Looks like acousticness has negative coorelation with loudness and energy.\n",
    "Energy and Loudness have positive coorelation.\n",
    "Danceability and popularity have high coorelation.\n",
    "Duration and instrumentalness don't seem to affect anything."
   ]
  },
  {
   "cell_type": "markdown",
   "metadata": {},
   "source": [
    "## Feature Selection"
   ]
  },
  {
   "cell_type": "markdown",
   "metadata": {},
   "source": [
    "Let's find the features with the highest coorelation to popularity, energy, and loudness."
   ]
  },
  {
   "cell_type": "code",
   "execution_count": 114,
   "metadata": {},
   "outputs": [
    {
     "data": {
      "text/plain": [
       "popularity      1.000\n",
       "danceability    0.162\n",
       "duration_ms     0.088\n",
       "energy          0.061\n",
       "speechiness     0.067\n",
       "Name: popularity, dtype: float64"
      ]
     },
     "execution_count": 114,
     "metadata": {},
     "output_type": "execute_result"
    }
   ],
   "source": [
    "# Correlation with Popularity\n",
    "target = abs(corr[\"popularity\"])\n",
    "\n",
    "# Selecting highly correlated features\n",
    "relevant_features = target[target > 0.05]\n",
    "relevant_features"
   ]
  },
  {
   "cell_type": "markdown",
   "metadata": {},
   "source": [
    "## Training the Model\n",
    "\n",
    "Use 75 percent of the data for train part. \n",
    "Use 25 percent of the data for test part."
   ]
  },
  {
   "cell_type": "code",
   "execution_count": 115,
   "metadata": {},
   "outputs": [
    {
     "name": "stdout",
     "output_type": "stream",
     "text": [
      "X:729.75 should equal X Train:729\n"
     ]
    }
   ],
   "source": [
    "feature_cols = ['danceability', 'duration_ms', 'energy', 'speechiness', 'loudness']\n",
    "X = hp[feature_cols]\n",
    "y = hp['popularity']\n",
    "\n",
    "X_train, X_test, y_train, y_test = train_test_split(X, y, test_size=0.25, random_state=0)\n",
    "\n",
    "print(f\"X:{len(X)*.75} should equal X Train:{len(X_train)}\")"
   ]
  },
  {
   "cell_type": "markdown",
   "metadata": {},
   "source": [
    "### Scale the Data"
   ]
  },
  {
   "cell_type": "code",
   "execution_count": 116,
   "metadata": {},
   "outputs": [
    {
     "name": "stderr",
     "output_type": "stream",
     "text": [
      "/anaconda3/lib/python3.7/site-packages/sklearn/preprocessing/data.py:645: DataConversionWarning: Data with input dtype int64, float64 were all converted to float64 by StandardScaler.\n",
      "  return self.partial_fit(X, y)\n",
      "/anaconda3/lib/python3.7/site-packages/sklearn/base.py:464: DataConversionWarning: Data with input dtype int64, float64 were all converted to float64 by StandardScaler.\n",
      "  return self.fit(X, **fit_params).transform(X)\n",
      "/anaconda3/lib/python3.7/site-packages/ipykernel_launcher.py:4: DataConversionWarning: Data with input dtype int64, float64 were all converted to float64 by StandardScaler.\n",
      "  after removing the cwd from sys.path.\n"
     ]
    }
   ],
   "source": [
    "from sklearn import preprocessing\n",
    "standard_scaler = preprocessing.StandardScaler()\n",
    "X_standard = standard_scaler.fit_transform(X_train)\n",
    "X_test_standard = standard_scaler.transform(X_test)"
   ]
  },
  {
   "cell_type": "markdown",
   "metadata": {},
   "source": [
    "### Building the Linear Regression Model"
   ]
  },
  {
   "cell_type": "code",
   "execution_count": 117,
   "metadata": {},
   "outputs": [
    {
     "data": {
      "text/plain": [
       "LinearRegression(copy_X=True, fit_intercept=True, n_jobs=None,\n",
       "         normalize=False)"
      ]
     },
     "execution_count": 117,
     "metadata": {},
     "output_type": "execute_result"
    }
   ],
   "source": [
    "from sklearn.linear_model import LinearRegression\n",
    "\n",
    "linreg = LinearRegression()\n",
    "\n",
    "# fit model\n",
    "linreg.fit(X_train, y_train)"
   ]
  },
  {
   "cell_type": "code",
   "execution_count": 118,
   "metadata": {},
   "outputs": [
    {
     "name": "stdout",
     "output_type": "stream",
     "text": [
      "[ 2.91926685e+00 -5.04753894e-06 -3.77955625e+00 -1.97646236e+00\n",
      "  2.45997536e-01]\n",
      "78.21173635053836\n"
     ]
    }
   ],
   "source": [
    "print(linreg.coef_)\n",
    "print(linreg.intercept_)"
   ]
  },
  {
   "cell_type": "code",
   "execution_count": 119,
   "metadata": {},
   "outputs": [
    {
     "data": {
      "text/html": [
       "<div>\n",
       "<style scoped>\n",
       "    .dataframe tbody tr th:only-of-type {\n",
       "        vertical-align: middle;\n",
       "    }\n",
       "\n",
       "    .dataframe tbody tr th {\n",
       "        vertical-align: top;\n",
       "    }\n",
       "\n",
       "    .dataframe thead th {\n",
       "        text-align: right;\n",
       "    }\n",
       "</style>\n",
       "<table border=\"1\" class=\"dataframe\">\n",
       "  <thead>\n",
       "    <tr style=\"text-align: right;\">\n",
       "      <th></th>\n",
       "      <th>danceability</th>\n",
       "      <th>duration_ms</th>\n",
       "      <th>energy</th>\n",
       "      <th>speechiness</th>\n",
       "      <th>loudness</th>\n",
       "    </tr>\n",
       "  </thead>\n",
       "  <tbody>\n",
       "    <tr>\n",
       "      <th>107186</th>\n",
       "      <td>0.895</td>\n",
       "      <td>230000</td>\n",
       "      <td>0.694</td>\n",
       "      <td>0.2750</td>\n",
       "      <td>-4.384</td>\n",
       "    </tr>\n",
       "    <tr>\n",
       "      <th>106177</th>\n",
       "      <td>0.788</td>\n",
       "      <td>207853</td>\n",
       "      <td>0.771</td>\n",
       "      <td>0.0563</td>\n",
       "      <td>-3.206</td>\n",
       "    </tr>\n",
       "    <tr>\n",
       "      <th>106567</th>\n",
       "      <td>0.773</td>\n",
       "      <td>211960</td>\n",
       "      <td>0.564</td>\n",
       "      <td>0.2490</td>\n",
       "      <td>-7.241</td>\n",
       "    </tr>\n",
       "    <tr>\n",
       "      <th>106350</th>\n",
       "      <td>0.727</td>\n",
       "      <td>169979</td>\n",
       "      <td>0.620</td>\n",
       "      <td>0.3060</td>\n",
       "      <td>-6.443</td>\n",
       "    </tr>\n",
       "    <tr>\n",
       "      <th>114830</th>\n",
       "      <td>0.870</td>\n",
       "      <td>176018</td>\n",
       "      <td>0.542</td>\n",
       "      <td>0.0397</td>\n",
       "      <td>-6.959</td>\n",
       "    </tr>\n",
       "  </tbody>\n",
       "</table>\n",
       "</div>"
      ],
      "text/plain": [
       "        danceability  duration_ms  energy  speechiness  loudness\n",
       "107186         0.895       230000   0.694       0.2750    -4.384\n",
       "106177         0.788       207853   0.771       0.0563    -3.206\n",
       "106567         0.773       211960   0.564       0.2490    -7.241\n",
       "106350         0.727       169979   0.620       0.3060    -6.443\n",
       "114830         0.870       176018   0.542       0.0397    -6.959"
      ]
     },
     "execution_count": 119,
     "metadata": {},
     "output_type": "execute_result"
    }
   ],
   "source": [
    "X_test.head()"
   ]
  },
  {
   "cell_type": "code",
   "execution_count": 120,
   "metadata": {},
   "outputs": [],
   "source": [
    "y_pred = linreg.predict(X_test)"
   ]
  },
  {
   "cell_type": "code",
   "execution_count": 121,
   "metadata": {},
   "outputs": [
    {
     "name": "stdout",
     "output_type": "stream",
     "text": [
      "R2 Score = 0.04926297132033031\n",
      "Mean Squared Error = 23.71904922390054\n"
     ]
    }
   ],
   "source": [
    "from sklearn.metrics import r2_score\n",
    "from sklearn.metrics import mean_squared_error\n",
    "\n",
    "print(f\"R2 Score = {r2_score(y_test, y_pred)}\")\n",
    "print(f\"Mean Squared Error = {mean_squared_error(y_test, y_pred)}\")"
   ]
  },
  {
   "cell_type": "markdown",
   "metadata": {},
   "source": [
    "## Predict"
   ]
  },
  {
   "cell_type": "markdown",
   "metadata": {},
   "source": [
    "## Test"
   ]
  },
  {
   "cell_type": "code",
   "execution_count": 122,
   "metadata": {},
   "outputs": [
    {
     "data": {
      "text/plain": [
       "array([75.41855384, 75.64899171, 74.99337626, 74.94298324, 76.0241589 ,\n",
       "       76.27426926, 75.13235991, 74.68478713, 73.90434204, 74.75907379,\n",
       "       75.23797041, 76.38592623, 75.52673188, 74.88724793, 74.90075804,\n",
       "       74.43470547, 74.97465799, 74.88835715, 75.27233633, 75.8705051 ,\n",
       "       75.66253851, 74.14346306, 75.64402891, 75.12430156, 74.6980184 ,\n",
       "       75.43427882, 75.50042256, 75.81509469, 73.71362416, 74.7653527 ,\n",
       "       75.42640488, 75.05783232, 74.136075  , 75.13232664, 75.23123091,\n",
       "       74.6454359 , 75.63606945, 75.85851943, 75.5030469 , 75.18707449,\n",
       "       75.66328919, 74.23414105, 75.40601221, 73.52260388, 75.47548911,\n",
       "       73.63118559, 75.05856303, 75.44446058, 74.25861065, 72.81176305,\n",
       "       75.46455144, 75.37744521, 75.67329993, 74.81940745, 75.54782005,\n",
       "       74.32425008, 75.33984012, 74.60355559, 73.62845707, 75.64524822,\n",
       "       74.29796774, 74.57895719, 73.95171176, 74.63665485, 75.05541873,\n",
       "       73.03136691, 75.74724968, 74.92388708, 74.278501  , 74.90611202,\n",
       "       76.38854514, 75.51049296, 76.43379824, 74.71137824, 74.61632027,\n",
       "       75.55519911, 76.28073104, 76.12354623, 75.04899491, 73.5167782 ,\n",
       "       75.23980203, 74.39441844, 76.19518122, 74.99418858, 76.04678282,\n",
       "       74.70493922, 74.97280798, 75.2827398 , 75.14339629, 74.94726518,\n",
       "       73.51303461, 75.63545595, 75.14769264, 75.40259015, 74.83857885,\n",
       "       73.75200964, 74.70035042, 74.5161005 , 75.39869799, 75.63093436,\n",
       "       75.45281437, 75.79928636, 73.97386048, 75.05094259, 74.63134162,\n",
       "       75.28355449, 75.41559483, 75.31892608, 74.81847402, 75.51978656,\n",
       "       76.89143947, 75.3880349 , 75.4466178 , 74.90779553, 74.27640117,\n",
       "       75.09061019, 74.3248125 , 74.66190387, 74.94288832, 75.31520391,\n",
       "       75.87690777, 74.16297214, 74.35298157, 75.10448628, 74.96516154,\n",
       "       72.76164762, 76.0830811 , 75.0405429 , 74.80838388, 76.04166443,\n",
       "       75.13220933, 75.33890417, 73.68190098, 75.23100666, 73.51015845,\n",
       "       74.90020226, 74.33069856, 74.70924317, 75.99819443, 75.90988613,\n",
       "       75.29215873, 73.72441285, 76.12619516, 74.90563202, 75.03591203,\n",
       "       74.70147373, 73.57681037, 74.4402811 , 75.89477491, 73.89980734,\n",
       "       73.92791411, 74.10644309, 74.37626191, 75.57302086, 74.86314765,\n",
       "       74.9399323 , 75.19332793, 73.56830077, 75.12843766, 75.0623954 ,\n",
       "       73.24412444, 76.41024616, 75.76183267, 75.26916081, 74.68612704,\n",
       "       75.39972432, 73.66846013, 73.90973501, 76.05815473, 76.00031182,\n",
       "       73.97955974, 74.65064795, 74.74210685, 75.53564453, 74.8581516 ,\n",
       "       75.19056891, 75.28816901, 75.09492346, 74.93949347, 75.37632625,\n",
       "       75.89335676, 74.21909756, 76.03370014, 74.91598275, 74.2115558 ,\n",
       "       76.00627506, 75.10877292, 74.68106869, 75.90177562, 74.28257333,\n",
       "       74.80787091, 74.40043063, 75.4360229 , 75.11500719, 75.48939534,\n",
       "       74.23231388, 75.26041389, 76.03269071, 75.20057931, 74.96817745,\n",
       "       75.86834096, 75.75406925, 75.26997958, 75.31940623, 73.97371259,\n",
       "       74.55799728, 74.58574563, 75.51315018, 75.94149962, 74.61166724,\n",
       "       74.92712083, 75.30538338, 75.03590579, 74.74438912, 75.28712676,\n",
       "       75.18987718, 74.45701123, 75.31084088, 75.35025396, 74.39416582,\n",
       "       74.64575452, 75.85825187, 74.80438462, 75.00179376, 75.22740916,\n",
       "       74.70907299, 75.01199124, 76.27646869, 72.89878396, 73.76018179,\n",
       "       75.02030358, 74.43263457, 74.86837444, 75.82410354, 74.67091402,\n",
       "       74.55430108, 74.71284538, 75.3662514 , 74.28607559, 74.7481691 ,\n",
       "       73.40929128, 75.19696436, 75.07697574, 73.60882242])"
      ]
     },
     "execution_count": 122,
     "metadata": {},
     "output_type": "execute_result"
    }
   ],
   "source": [
    "y_pred"
   ]
  },
  {
   "cell_type": "markdown",
   "metadata": {},
   "source": [
    "Most of the predictions are in the 70's which indicated the model doesn't output much variety"
   ]
  },
  {
   "cell_type": "code",
   "execution_count": 141,
   "metadata": {},
   "outputs": [
    {
     "data": {
      "text/html": [
       "<div>\n",
       "<style scoped>\n",
       "    .dataframe tbody tr th:only-of-type {\n",
       "        vertical-align: middle;\n",
       "    }\n",
       "\n",
       "    .dataframe tbody tr th {\n",
       "        vertical-align: top;\n",
       "    }\n",
       "\n",
       "    .dataframe thead th {\n",
       "        text-align: right;\n",
       "    }\n",
       "</style>\n",
       "<table border=\"1\" class=\"dataframe\">\n",
       "  <thead>\n",
       "    <tr style=\"text-align: right;\">\n",
       "      <th></th>\n",
       "      <th>danceability</th>\n",
       "      <th>duration_ms</th>\n",
       "      <th>energy</th>\n",
       "      <th>speechiness</th>\n",
       "      <th>loudness</th>\n",
       "    </tr>\n",
       "  </thead>\n",
       "  <tbody>\n",
       "    <tr>\n",
       "      <th>106034</th>\n",
       "      <td>0.837</td>\n",
       "      <td>213594</td>\n",
       "      <td>0.364</td>\n",
       "      <td>0.2760</td>\n",
       "      <td>-11.713</td>\n",
       "    </tr>\n",
       "    <tr>\n",
       "      <th>106035</th>\n",
       "      <td>0.889</td>\n",
       "      <td>180522</td>\n",
       "      <td>0.496</td>\n",
       "      <td>0.0905</td>\n",
       "      <td>-6.365</td>\n",
       "    </tr>\n",
       "    <tr>\n",
       "      <th>106036</th>\n",
       "      <td>0.837</td>\n",
       "      <td>288624</td>\n",
       "      <td>0.636</td>\n",
       "      <td>0.0860</td>\n",
       "      <td>-7.643</td>\n",
       "    </tr>\n",
       "    <tr>\n",
       "      <th>106037</th>\n",
       "      <td>0.942</td>\n",
       "      <td>177806</td>\n",
       "      <td>0.383</td>\n",
       "      <td>0.5650</td>\n",
       "      <td>-8.099</td>\n",
       "    </tr>\n",
       "    <tr>\n",
       "      <th>106038</th>\n",
       "      <td>0.729</td>\n",
       "      <td>183907</td>\n",
       "      <td>0.625</td>\n",
       "      <td>0.0315</td>\n",
       "      <td>-5.266</td>\n",
       "    </tr>\n",
       "  </tbody>\n",
       "</table>\n",
       "</div>"
      ],
      "text/plain": [
       "        danceability  duration_ms  energy  speechiness  loudness\n",
       "106034         0.837       213594   0.364       0.2760   -11.713\n",
       "106035         0.889       180522   0.496       0.0905    -6.365\n",
       "106036         0.837       288624   0.636       0.0860    -7.643\n",
       "106037         0.942       177806   0.383       0.5650    -8.099\n",
       "106038         0.729       183907   0.625       0.0315    -5.266"
      ]
     },
     "execution_count": 141,
     "metadata": {},
     "output_type": "execute_result"
    }
   ],
   "source": [
    "X.head()"
   ]
  },
  {
   "cell_type": "code",
   "execution_count": 124,
   "metadata": {},
   "outputs": [
    {
     "data": {
      "text/plain": [
       "106034    96\n",
       "106035    95\n",
       "106036    93\n",
       "106037    88\n",
       "106038    92\n",
       "Name: popularity, dtype: int64"
      ]
     },
     "execution_count": 124,
     "metadata": {},
     "output_type": "execute_result"
    }
   ],
   "source": [
    "y.head()"
   ]
  },
  {
   "cell_type": "markdown",
   "metadata": {},
   "source": [
    "Lets take an unpopular hip hop song"
   ]
  },
  {
   "cell_type": "code",
   "execution_count": 142,
   "metadata": {},
   "outputs": [
    {
     "data": {
      "text/html": [
       "<div>\n",
       "<style scoped>\n",
       "    .dataframe tbody tr th:only-of-type {\n",
       "        vertical-align: middle;\n",
       "    }\n",
       "\n",
       "    .dataframe tbody tr th {\n",
       "        vertical-align: top;\n",
       "    }\n",
       "\n",
       "    .dataframe thead th {\n",
       "        text-align: right;\n",
       "    }\n",
       "</style>\n",
       "<table border=\"1\" class=\"dataframe\">\n",
       "  <thead>\n",
       "    <tr style=\"text-align: right;\">\n",
       "      <th></th>\n",
       "      <th>genre</th>\n",
       "      <th>artist_name</th>\n",
       "      <th>track_name</th>\n",
       "      <th>track_id</th>\n",
       "      <th>popularity</th>\n",
       "      <th>acousticness</th>\n",
       "      <th>danceability</th>\n",
       "      <th>duration_ms</th>\n",
       "      <th>energy</th>\n",
       "      <th>instrumentalness</th>\n",
       "      <th>key</th>\n",
       "      <th>liveness</th>\n",
       "      <th>loudness</th>\n",
       "      <th>mode</th>\n",
       "      <th>speechiness</th>\n",
       "      <th>tempo</th>\n",
       "      <th>time_signature</th>\n",
       "      <th>valence</th>\n",
       "    </tr>\n",
       "  </thead>\n",
       "  <tbody>\n",
       "    <tr>\n",
       "      <th>106034</th>\n",
       "      <td>Hip-Hop</td>\n",
       "      <td>J. Cole</td>\n",
       "      <td>MIDDLE CHILD</td>\n",
       "      <td>2JvzF1RMd7lE3KmFlsyZD8</td>\n",
       "      <td>96</td>\n",
       "      <td>0.14900</td>\n",
       "      <td>0.837</td>\n",
       "      <td>213594</td>\n",
       "      <td>0.364</td>\n",
       "      <td>0.00000</td>\n",
       "      <td>G#</td>\n",
       "      <td>0.2710</td>\n",
       "      <td>-11.713</td>\n",
       "      <td>Major</td>\n",
       "      <td>0.2760</td>\n",
       "      <td>123.984</td>\n",
       "      <td>4/4</td>\n",
       "      <td>0.463</td>\n",
       "    </tr>\n",
       "    <tr>\n",
       "      <th>106035</th>\n",
       "      <td>Hip-Hop</td>\n",
       "      <td>Meek Mill</td>\n",
       "      <td>Going Bad (feat. Drake)</td>\n",
       "      <td>2IRZnDFmlqMuOrYOLnZZyc</td>\n",
       "      <td>95</td>\n",
       "      <td>0.25900</td>\n",
       "      <td>0.889</td>\n",
       "      <td>180522</td>\n",
       "      <td>0.496</td>\n",
       "      <td>0.00000</td>\n",
       "      <td>E</td>\n",
       "      <td>0.2520</td>\n",
       "      <td>-6.365</td>\n",
       "      <td>Minor</td>\n",
       "      <td>0.0905</td>\n",
       "      <td>86.003</td>\n",
       "      <td>4/4</td>\n",
       "      <td>0.544</td>\n",
       "    </tr>\n",
       "    <tr>\n",
       "      <th>106036</th>\n",
       "      <td>Hip-Hop</td>\n",
       "      <td>21 Savage</td>\n",
       "      <td>a lot</td>\n",
       "      <td>2t8yVaLvJ0RenpXUIAC52d</td>\n",
       "      <td>93</td>\n",
       "      <td>0.03950</td>\n",
       "      <td>0.837</td>\n",
       "      <td>288624</td>\n",
       "      <td>0.636</td>\n",
       "      <td>0.00125</td>\n",
       "      <td>C#</td>\n",
       "      <td>0.3420</td>\n",
       "      <td>-7.643</td>\n",
       "      <td>Major</td>\n",
       "      <td>0.0860</td>\n",
       "      <td>145.972</td>\n",
       "      <td>4/4</td>\n",
       "      <td>0.274</td>\n",
       "    </tr>\n",
       "    <tr>\n",
       "      <th>106037</th>\n",
       "      <td>Hip-Hop</td>\n",
       "      <td>Rich The Kid</td>\n",
       "      <td>Splashin</td>\n",
       "      <td>79OEIr4J4FHV0O3KrhaXRb</td>\n",
       "      <td>88</td>\n",
       "      <td>0.00195</td>\n",
       "      <td>0.942</td>\n",
       "      <td>177806</td>\n",
       "      <td>0.383</td>\n",
       "      <td>0.00000</td>\n",
       "      <td>A#</td>\n",
       "      <td>0.0922</td>\n",
       "      <td>-8.099</td>\n",
       "      <td>Major</td>\n",
       "      <td>0.5650</td>\n",
       "      <td>100.021</td>\n",
       "      <td>4/4</td>\n",
       "      <td>0.380</td>\n",
       "    </tr>\n",
       "    <tr>\n",
       "      <th>106038</th>\n",
       "      <td>Hip-Hop</td>\n",
       "      <td>Sheck Wes</td>\n",
       "      <td>Mo Bamba</td>\n",
       "      <td>1xzBco0xcoJEDXktl7Jxrr</td>\n",
       "      <td>92</td>\n",
       "      <td>0.19400</td>\n",
       "      <td>0.729</td>\n",
       "      <td>183907</td>\n",
       "      <td>0.625</td>\n",
       "      <td>0.00986</td>\n",
       "      <td>E</td>\n",
       "      <td>0.2480</td>\n",
       "      <td>-5.266</td>\n",
       "      <td>Major</td>\n",
       "      <td>0.0315</td>\n",
       "      <td>146.034</td>\n",
       "      <td>4/4</td>\n",
       "      <td>0.261</td>\n",
       "    </tr>\n",
       "  </tbody>\n",
       "</table>\n",
       "</div>"
      ],
      "text/plain": [
       "          genre   artist_name               track_name  \\\n",
       "106034  Hip-Hop       J. Cole             MIDDLE CHILD   \n",
       "106035  Hip-Hop     Meek Mill  Going Bad (feat. Drake)   \n",
       "106036  Hip-Hop     21 Savage                    a lot   \n",
       "106037  Hip-Hop  Rich The Kid                 Splashin   \n",
       "106038  Hip-Hop     Sheck Wes                 Mo Bamba   \n",
       "\n",
       "                      track_id  popularity  acousticness  danceability  \\\n",
       "106034  2JvzF1RMd7lE3KmFlsyZD8          96       0.14900         0.837   \n",
       "106035  2IRZnDFmlqMuOrYOLnZZyc          95       0.25900         0.889   \n",
       "106036  2t8yVaLvJ0RenpXUIAC52d          93       0.03950         0.837   \n",
       "106037  79OEIr4J4FHV0O3KrhaXRb          88       0.00195         0.942   \n",
       "106038  1xzBco0xcoJEDXktl7Jxrr          92       0.19400         0.729   \n",
       "\n",
       "        duration_ms  energy  instrumentalness key  liveness  loudness   mode  \\\n",
       "106034       213594   0.364           0.00000  G#    0.2710   -11.713  Major   \n",
       "106035       180522   0.496           0.00000   E    0.2520    -6.365  Minor   \n",
       "106036       288624   0.636           0.00125  C#    0.3420    -7.643  Major   \n",
       "106037       177806   0.383           0.00000  A#    0.0922    -8.099  Major   \n",
       "106038       183907   0.625           0.00986   E    0.2480    -5.266  Major   \n",
       "\n",
       "        speechiness    tempo time_signature  valence  \n",
       "106034       0.2760  123.984            4/4    0.463  \n",
       "106035       0.0905   86.003            4/4    0.544  \n",
       "106036       0.0860  145.972            4/4    0.274  \n",
       "106037       0.5650  100.021            4/4    0.380  \n",
       "106038       0.0315  146.034            4/4    0.261  "
      ]
     },
     "execution_count": 142,
     "metadata": {},
     "output_type": "execute_result"
    }
   ],
   "source": [
    "hh.head()"
   ]
  },
  {
   "cell_type": "code",
   "execution_count": 147,
   "metadata": {},
   "outputs": [
    {
     "data": {
      "text/plain": [
       "15"
      ]
     },
     "execution_count": 147,
     "metadata": {},
     "output_type": "execute_result"
    }
   ],
   "source": [
    "hl = hh[(hh[\"popularity\"] <= 30)]\n",
    "len(hl)"
   ]
  },
  {
   "cell_type": "code",
   "execution_count": 150,
   "metadata": {},
   "outputs": [
    {
     "data": {
      "text/html": [
       "<div>\n",
       "<style scoped>\n",
       "    .dataframe tbody tr th:only-of-type {\n",
       "        vertical-align: middle;\n",
       "    }\n",
       "\n",
       "    .dataframe tbody tr th {\n",
       "        vertical-align: top;\n",
       "    }\n",
       "\n",
       "    .dataframe thead th {\n",
       "        text-align: right;\n",
       "    }\n",
       "</style>\n",
       "<table border=\"1\" class=\"dataframe\">\n",
       "  <thead>\n",
       "    <tr style=\"text-align: right;\">\n",
       "      <th></th>\n",
       "      <th>genre</th>\n",
       "      <th>artist_name</th>\n",
       "      <th>track_name</th>\n",
       "      <th>track_id</th>\n",
       "      <th>popularity</th>\n",
       "      <th>acousticness</th>\n",
       "      <th>danceability</th>\n",
       "      <th>duration_ms</th>\n",
       "      <th>energy</th>\n",
       "      <th>instrumentalness</th>\n",
       "      <th>key</th>\n",
       "      <th>liveness</th>\n",
       "      <th>loudness</th>\n",
       "      <th>mode</th>\n",
       "      <th>speechiness</th>\n",
       "      <th>tempo</th>\n",
       "      <th>time_signature</th>\n",
       "      <th>valence</th>\n",
       "    </tr>\n",
       "  </thead>\n",
       "  <tbody>\n",
       "    <tr>\n",
       "      <th>109279</th>\n",
       "      <td>Hip-Hop</td>\n",
       "      <td>Waka Flocka Flame</td>\n",
       "      <td>Turn It To A Rave (feat. Neon Dreams)</td>\n",
       "      <td>63NR3HIWhrQoYiqp7xJOzH</td>\n",
       "      <td>25</td>\n",
       "      <td>0.0880</td>\n",
       "      <td>0.691</td>\n",
       "      <td>232720</td>\n",
       "      <td>0.699</td>\n",
       "      <td>0.000014</td>\n",
       "      <td>F#</td>\n",
       "      <td>0.322</td>\n",
       "      <td>-9.745</td>\n",
       "      <td>Minor</td>\n",
       "      <td>0.0844</td>\n",
       "      <td>130.238</td>\n",
       "      <td>4/4</td>\n",
       "      <td>0.374</td>\n",
       "    </tr>\n",
       "    <tr>\n",
       "      <th>109281</th>\n",
       "      <td>Hip-Hop</td>\n",
       "      <td>Waka Flocka Flame</td>\n",
       "      <td>Turn Up God (Intro)</td>\n",
       "      <td>5MVQP1V1OIXIVeLeaP0TPq</td>\n",
       "      <td>26</td>\n",
       "      <td>0.0547</td>\n",
       "      <td>0.639</td>\n",
       "      <td>228880</td>\n",
       "      <td>0.865</td>\n",
       "      <td>0.000000</td>\n",
       "      <td>G#</td>\n",
       "      <td>0.507</td>\n",
       "      <td>-13.918</td>\n",
       "      <td>Minor</td>\n",
       "      <td>0.0718</td>\n",
       "      <td>133.052</td>\n",
       "      <td>4/4</td>\n",
       "      <td>0.401</td>\n",
       "    </tr>\n",
       "    <tr>\n",
       "      <th>109283</th>\n",
       "      <td>Hip-Hop</td>\n",
       "      <td>Waka Flocka Flame</td>\n",
       "      <td>Grove St. Party (feat. Neon Dreams)</td>\n",
       "      <td>1eSt469YITAg1DAEgXxleU</td>\n",
       "      <td>24</td>\n",
       "      <td>0.0411</td>\n",
       "      <td>0.589</td>\n",
       "      <td>134200</td>\n",
       "      <td>0.661</td>\n",
       "      <td>0.000000</td>\n",
       "      <td>F#</td>\n",
       "      <td>0.606</td>\n",
       "      <td>-9.402</td>\n",
       "      <td>Major</td>\n",
       "      <td>0.2270</td>\n",
       "      <td>143.537</td>\n",
       "      <td>4/4</td>\n",
       "      <td>0.697</td>\n",
       "    </tr>\n",
       "    <tr>\n",
       "      <th>109286</th>\n",
       "      <td>Hip-Hop</td>\n",
       "      <td>Waka Flocka Flame</td>\n",
       "      <td>OVA (feat. DJ Whoo Kid, Offset &amp; Ca$h Out)</td>\n",
       "      <td>0V3jsjVLndqsGgm77L1ALn</td>\n",
       "      <td>23</td>\n",
       "      <td>0.1210</td>\n",
       "      <td>0.772</td>\n",
       "      <td>269427</td>\n",
       "      <td>0.484</td>\n",
       "      <td>0.000000</td>\n",
       "      <td>B</td>\n",
       "      <td>0.179</td>\n",
       "      <td>-10.103</td>\n",
       "      <td>Major</td>\n",
       "      <td>0.1140</td>\n",
       "      <td>135.956</td>\n",
       "      <td>4/4</td>\n",
       "      <td>0.334</td>\n",
       "    </tr>\n",
       "    <tr>\n",
       "      <th>109288</th>\n",
       "      <td>Hip-Hop</td>\n",
       "      <td>Waka Flocka Flame</td>\n",
       "      <td>Go Crazy (feat. Machine Gun Kelly)</td>\n",
       "      <td>0tQuTpN6nptWmrAy9l99VY</td>\n",
       "      <td>25</td>\n",
       "      <td>0.2300</td>\n",
       "      <td>0.791</td>\n",
       "      <td>187747</td>\n",
       "      <td>0.820</td>\n",
       "      <td>0.000000</td>\n",
       "      <td>C#</td>\n",
       "      <td>0.575</td>\n",
       "      <td>-7.480</td>\n",
       "      <td>Major</td>\n",
       "      <td>0.2220</td>\n",
       "      <td>133.264</td>\n",
       "      <td>4/4</td>\n",
       "      <td>0.635</td>\n",
       "    </tr>\n",
       "  </tbody>\n",
       "</table>\n",
       "</div>"
      ],
      "text/plain": [
       "          genre        artist_name  \\\n",
       "109279  Hip-Hop  Waka Flocka Flame   \n",
       "109281  Hip-Hop  Waka Flocka Flame   \n",
       "109283  Hip-Hop  Waka Flocka Flame   \n",
       "109286  Hip-Hop  Waka Flocka Flame   \n",
       "109288  Hip-Hop  Waka Flocka Flame   \n",
       "\n",
       "                                        track_name                track_id  \\\n",
       "109279       Turn It To A Rave (feat. Neon Dreams)  63NR3HIWhrQoYiqp7xJOzH   \n",
       "109281                         Turn Up God (Intro)  5MVQP1V1OIXIVeLeaP0TPq   \n",
       "109283         Grove St. Party (feat. Neon Dreams)  1eSt469YITAg1DAEgXxleU   \n",
       "109286  OVA (feat. DJ Whoo Kid, Offset & Ca$h Out)  0V3jsjVLndqsGgm77L1ALn   \n",
       "109288          Go Crazy (feat. Machine Gun Kelly)  0tQuTpN6nptWmrAy9l99VY   \n",
       "\n",
       "        popularity  acousticness  danceability  duration_ms  energy  \\\n",
       "109279          25        0.0880         0.691       232720   0.699   \n",
       "109281          26        0.0547         0.639       228880   0.865   \n",
       "109283          24        0.0411         0.589       134200   0.661   \n",
       "109286          23        0.1210         0.772       269427   0.484   \n",
       "109288          25        0.2300         0.791       187747   0.820   \n",
       "\n",
       "        instrumentalness key  liveness  loudness   mode  speechiness    tempo  \\\n",
       "109279          0.000014  F#     0.322    -9.745  Minor       0.0844  130.238   \n",
       "109281          0.000000  G#     0.507   -13.918  Minor       0.0718  133.052   \n",
       "109283          0.000000  F#     0.606    -9.402  Major       0.2270  143.537   \n",
       "109286          0.000000   B     0.179   -10.103  Major       0.1140  135.956   \n",
       "109288          0.000000  C#     0.575    -7.480  Major       0.2220  133.264   \n",
       "\n",
       "       time_signature  valence  \n",
       "109279            4/4    0.374  \n",
       "109281            4/4    0.401  \n",
       "109283            4/4    0.697  \n",
       "109286            4/4    0.334  \n",
       "109288            4/4    0.635  "
      ]
     },
     "execution_count": 150,
     "metadata": {},
     "output_type": "execute_result"
    }
   ],
   "source": [
    "hl.head()"
   ]
  },
  {
   "cell_type": "code",
   "execution_count": 154,
   "metadata": {},
   "outputs": [],
   "source": [
    "feature_cols = ['danceability', 'duration_ms', 'energy', 'speechiness', 'loudness']\n",
    "hx = hl[feature_cols]\n",
    "# hy = hl[\"popularity\"]"
   ]
  },
  {
   "cell_type": "code",
   "execution_count": 156,
   "metadata": {},
   "outputs": [
    {
     "data": {
      "text/plain": [
       "array([73.84831725, 72.08684729, 73.99399233, 74.56553204, 74.19514379,\n",
       "       74.58419197, 73.64904653, 72.67842683, 73.67151408, 72.03245585,\n",
       "       73.79482079, 73.79778748, 72.92119664, 74.04809867, 74.31068507])"
      ]
     },
     "execution_count": 156,
     "metadata": {},
     "output_type": "execute_result"
    }
   ],
   "source": [
    "y_pred = linreg.predict(hx)\n",
    "y_pred"
   ]
  },
  {
   "cell_type": "markdown",
   "metadata": {},
   "source": [
    "We successfully estimated how popular a song would be if they had proper promotion!"
   ]
  },
  {
   "cell_type": "code",
   "execution_count": null,
   "metadata": {},
   "outputs": [],
   "source": []
  }
 ],
 "metadata": {
  "kernelspec": {
   "display_name": "Python 3",
   "language": "python",
   "name": "python3"
  },
  "language_info": {
   "codemirror_mode": {
    "name": "ipython",
    "version": 3
   },
   "file_extension": ".py",
   "mimetype": "text/x-python",
   "name": "python",
   "nbconvert_exporter": "python",
   "pygments_lexer": "ipython3",
   "version": "3.7.3"
  }
 },
 "nbformat": 4,
 "nbformat_minor": 2
}

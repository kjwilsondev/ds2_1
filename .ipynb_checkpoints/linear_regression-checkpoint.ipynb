{
 "cells": [
  {
   "cell_type": "markdown",
   "metadata": {},
   "source": [
    "###Homework Linear Regression\n",
    "\n",
    "- The dataset you are working is Boston Housing Price\n",
    "\n",
    "- The Boston_Housing_Prices dataset is a famous dataset usually used for learning or benchmarking regression techniques. This dataset contains 14 variables, one of which (MEDV, median value of home) we'll use as the target. \n",
    "\n",
    "- For this assignment, your task is to:\n",
    "\n",
    "1- Read in the dataset using sklearn's load_boston() function (found in sklearn.datasets) \n",
    "\n",
    "2- Perform some basic exploratory data analysis to get a feel for the data. Graph some stuff! \n",
    "\n",
    "3- Create a correlation heatmap to check to see how highly correlated our predictor variables (features) are (Remember, if our predictors are highly correlated, this is bad.)\n",
    "\n",
    "4- Train the model based on the train set. Use 75 peercent of the data for train part. Use 25 percent of the data for test part.\n",
    "\n",
    "Hint: from sklearn.model_selection import train_test_split\n",
    "\n",
    "Hint: X_train, X_test, y_train, y_test = train_test_split(X, y, test_size=0.25, random_state=0)\n",
    "\n",
    "\n",
    "5 -Make predictions on your test set (X_test) and see how well it compares to the actual targets (y_test) from the test set.\n",
    "\n",
    "6- Compute, Mean-Square-Error (MSE) and R Squared score of your Model\n",
    "\n",
    "Hint: from sklearn.metrics import r2_score\n",
    "\n",
    "Hint: from sklearn.metrics import mean_squared_error"
   ]
  },
  {
   "cell_type": "code",
   "execution_count": null,
   "metadata": {},
   "outputs": [],
   "source": []
  }
 ],
 "metadata": {
  "kernelspec": {
   "display_name": "Python 3",
   "language": "python",
   "name": "python3"
  },
  "language_info": {
   "codemirror_mode": {
    "name": "ipython",
    "version": 3
   },
   "file_extension": ".py",
   "mimetype": "text/x-python",
   "name": "python",
   "nbconvert_exporter": "python",
   "pygments_lexer": "ipython3",
   "version": "3.7.3"
  }
 },
 "nbformat": 4,
 "nbformat_minor": 2
}
